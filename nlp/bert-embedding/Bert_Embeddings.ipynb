{
 "cells": [
  {
   "cell_type": "markdown",
   "metadata": {
    "id": "iDtH_v2_cWuk"
   },
   "source": [
    "# BERT with TensorFlow/Keras"
   ]
  },
  {
   "cell_type": "markdown",
   "metadata": {
    "id": "EilH_AO3ccN-"
   },
   "source": [
    "# Generating word embeddings\n",
    "\n",
    "First add necessary imports and load the BERT model from tfhub.dev"
   ]
  },
  {
   "cell_type": "code",
   "execution_count": 1,
   "metadata": {
    "colab": {
     "base_uri": "https://localhost:8080/"
    },
    "id": "pKXd2nbENYzU",
    "outputId": "7d3e38a9-be93-411a-8932-32a0d39a24fe"
   },
   "outputs": [],
   "source": [
    "#!python3 -m pip install tensorflow tensorflow-hub tensorflow-text"
   ]
  },
  {
   "cell_type": "code",
   "execution_count": null,
   "metadata": {
    "id": "M1iTF8seMxL6"
   },
   "outputs": [],
   "source": [
    "import tensorflow as tf\n",
    "import tensorflow_hub as hub\n",
    "import tensorflow_text as text\n",
    "from sklearn.metrics.pairwise import cosine_similarity\n",
    "\n",
    "text_input = tf.keras.layers.Input(shape=(), dtype=tf.string)\n",
    "preprocessor = hub.KerasLayer(\"https://tfhub.dev/tensorflow/bert_en_uncased_preprocess/3\")\n",
    "encoder_inputs = preprocessor(text_input)\n",
    "encoder = hub.KerasLayer(\"https://tfhub.dev/tensorflow/bert_en_uncased_L-24_H-1024_A-16/3\", trainable=True)\n",
    "outputs = encoder(encoder_inputs)\n",
    "pooled_output = outputs[\"pooled_output\"]\n",
    "sequence_output = outputs[\"sequence_output\"]\n",
    "\n",
    "embedding_model = tf.keras.Model(text_input, pooled_output)"
   ]
  },
  {
   "cell_type": "markdown",
   "metadata": {
    "id": "vEyVDSKzczbB"
   },
   "source": [
    "Now we can encode some words using the bert model."
   ]
  },
  {
   "cell_type": "code",
   "execution_count": null,
   "metadata": {
    "id": "q7TDqCiEM4ZR"
   },
   "outputs": [],
   "source": [
    "query = tf.constant([\"neuroscientist\"])\n",
    "query_embedding = embedding_model(query).numpy()\n",
    "print(query_embedding)"
   ]
  },
  {
   "cell_type": "markdown",
   "metadata": {
    "id": "VYmy-OMGeBro"
   },
   "source": [
    "# Sentence Similarity\n"
   ]
  },
  {
   "cell_type": "code",
   "execution_count": null,
   "metadata": {
    "id": "vKo-K4xZeJb8"
   },
   "outputs": [],
   "source": [
    "documents = [\n",
    "  { 'id': 1, 'text': \"cardiac surgeon\" },\n",
    "  { 'id': 2, 'text': \"neuroscientist\" }\n",
    "]\n",
    "print(documents)"
   ]
  },
  {
   "cell_type": "code",
   "execution_count": null,
   "metadata": {
    "id": "8-NgfxLGbMKz"
   },
   "outputs": [],
   "source": [
    "document_embeddings = list(\n",
    "    map(lambda doc:\n",
    "        { 'id': doc['id'], 'text': embedding_model(tf.constant([doc['text']]).numpy()) },\n",
    "        documents\n",
    "    )\n",
    ")\n",
    "print(document_embeddings)"
   ]
  },
  {
   "cell_type": "code",
   "execution_count": null,
   "metadata": {
    "id": "su_g9K3BZBEm"
   },
   "outputs": [],
   "source": [
    "cosine_similarities = list(\n",
    "    map(lambda doc:\n",
    "        { 'id': doc['id'], 'score': cosine_similarity(query_embedding, doc['text'])[0][0] },\n",
    "        document_embeddings\n",
    "    )\n",
    ")\n",
    "print(cosine_similarities)"
   ]
  },
  {
   "cell_type": "code",
   "execution_count": null,
   "metadata": {
    "id": "01xwIKmie3eE"
   },
   "outputs": [],
   "source": [
    "cosine_similarities.sort(key = lambda doc: doc['score'], reverse=True)\n",
    "print(cosine_similarities)"
   ]
  },
  {
   "cell_type": "code",
   "execution_count": null,
   "metadata": {
    "id": "xQj-V-uOj1Sv"
   },
   "outputs": [],
   "source": [
    "print(\"Documents:\")\n",
    "print(documents)\n",
    "\n",
    "results = list(\n",
    "    map(lambda score:\n",
    "        { 'id': score['id'], 'text': list(map(lambda doc: doc['text'], filter(lambda doc: doc['id'] == score['id'], documents)))[0] },\n",
    "        cosine_similarities\n",
    "    )\n",
    ")\n",
    "print(\"\")\n",
    "print(\"Ranked by most similar to search query: '\" + query.numpy()[0].decode('ascii') + \"'\")\n",
    "print(results)"
   ]
  }
 ],
 "metadata": {
  "colab": {
   "collapsed_sections": [],
   "name": "Bert Embeddings.ipynb",
   "provenance": []
  },
  "kernelspec": {
   "display_name": "Python 3",
   "language": "python",
   "name": "python3"
  },
  "language_info": {
   "codemirror_mode": {
    "name": "ipython",
    "version": 3
   },
   "file_extension": ".py",
   "mimetype": "text/x-python",
   "name": "python",
   "nbconvert_exporter": "python",
   "pygments_lexer": "ipython3",
   "version": "3.8.8"
  }
 },
 "nbformat": 4,
 "nbformat_minor": 1
}
